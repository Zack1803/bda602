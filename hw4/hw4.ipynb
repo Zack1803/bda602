{
 "cells": [
  {
   "cell_type": "code",
   "execution_count": 84,
   "id": "1e318bbe",
   "metadata": {},
   "outputs": [],
   "source": [
    "# Continuous or Boolean\n",
    "# Loop through each predictor\n",
    "    # Determine if the predictor is cat/cont\n",
    "    # Automatically generate the necessary plot(s) to inspect it\n",
    "    # Calculate the different ranking algos\n",
    "    # p-value & t-score (continuous predictors only) along with it's plot\n",
    "\n",
    "import pandas as pd\n",
    "import numpy as np\n",
    "from sklearn import datasets, linear_model\n",
    "from sklearn.linear_model import LinearRegression\n",
    "import statsmodels.api as sm\n",
    "from scipy import stats\n",
    "import matplotlib.pyplot as plt\n",
    "from plotly import figure_factory as ff\n",
    "from plotly import figure_factory as ff\n",
    "from plotly import graph_objects as go\n",
    "from sklearn.metrics import confusion_matrix"
   ]
  },
  {
   "cell_type": "code",
   "execution_count": 85,
   "id": "da701b60",
   "metadata": {},
   "outputs": [],
   "source": [
    "#data = datasets.load_diabetes(as_frame=True)\n",
    "#data = datasets.load_breast_cancer(as_frame=True)"
   ]
  },
  {
   "cell_type": "code",
   "execution_count": 86,
   "id": "04e146d1",
   "metadata": {},
   "outputs": [],
   "source": [
    "#Diabetes\n",
    "#diabetes = datasets.load_diabetes(as_frame=True)\n",
    "#df = diabetes['frame']\n",
    "#predictors = ['age','sex','bmi','bp','s1','s2','s3','s4','s5','s6']\n",
    "#response = ['target']"
   ]
  },
  {
   "cell_type": "code",
   "execution_count": 87,
   "id": "5c82d240",
   "metadata": {},
   "outputs": [],
   "source": [
    "#Iris\n",
    "df = pd.read_csv('iris.csv')\n",
    "df.head()\n",
    "predictors = ['Id', 'SepalLengthCm', 'SepalWidthCm', 'PetalLengthCm', 'PetalWidthCm']\n",
    "response = ['Species']"
   ]
  },
  {
   "cell_type": "code",
   "execution_count": 88,
   "id": "83aec3e0",
   "metadata": {},
   "outputs": [],
   "source": [
    "import sys\n",
    " \n",
    "import statsmodels.api\n",
    "from plotly import express as px\n",
    "from sklearn import datasets\n",
    " \n",
    "    \n",
    "\n",
    "\n",
    "\n",
    "def lr(df):\n",
    "    X = df.iloc[::-1]\n",
    "    y = df.iloc[:-1]\n",
    "    for idx, column in enumerate(X.T):\n",
    "        feature_name = diabetes.feature_names[idx]\n",
    "        predictor = statsmodels.api.add_constant(column)\n",
    "        linear_regression_model = statsmodels.api.OLS(y, predictor)\n",
    "        linear_regression_model_fitted = linear_regression_model.fit()\n",
    "        print(f\"Variable: {feature_name}\")\n",
    "        print(linear_regression_model_fitted.summary())\n",
    "        # Get the stats\n",
    "        t_value = round(linear_regression_model_fitted.tvalues[1], 6)\n",
    "        p_value = \"{:.6e}\".format(linear_regression_model_fitted.pvalues[1])\n",
    " \n",
    "        # Plot the figure\n",
    "        fig = px.scatter(x=column, y=y, trendline=\"ols\")\n",
    "        fig.update_layout(\n",
    "            title=f\"Variable: {feature_name}: (t-value={t_value}) (p-value={p_value})\",\n",
    "            xaxis_title=f\"Variable: {feature_name}\",\n",
    "            yaxis_title=\"y\",\n",
    "        )\n",
    "        fig.show()\n",
    "        \n",
    "    return\n",
    " \n",
    "    \n",
    "if __name__ == \"__main__\":\n",
    "    '''\n",
    "    diabetes = datasets.load_diabetes(as_frame=True)\n",
    "    df = diabetes['frame']\n",
    "    predictors = ['age','sex','bmi','bp','s1','s2','s3','s4','s5','s6']\n",
    "    response = ['target']\n",
    "    X = diabetes.data.values\n",
    "    y = diabetes.target.values\n",
    "    '''\n",
    "    #iris = datasets.load_iris(as_frame=True)\n",
    "    #df = iris['frame']       \n",
    "    #predictors = ['sepal length (cm)', 'sepal width (cm)', 'petal length (cm)','petal width (cm)']\n",
    "    #response = ['target']\n",
    "    #variable_type(df,predictors,response)\n",
    "    #lr(X,y)"
   ]
  },
  {
   "cell_type": "code",
   "execution_count": null,
   "id": "5270ceac",
   "metadata": {},
   "outputs": [],
   "source": []
  },
  {
   "cell_type": "code",
   "execution_count": null,
   "id": "53a2c17d",
   "metadata": {},
   "outputs": [],
   "source": []
  },
  {
   "cell_type": "code",
   "execution_count": 89,
   "id": "b7c202db",
   "metadata": {},
   "outputs": [],
   "source": [
    "#Randon Forest "
   ]
  },
  {
   "cell_type": "code",
   "execution_count": 90,
   "id": "02969ba3",
   "metadata": {},
   "outputs": [
    {
     "data": {
      "text/plain": [
       "RandomForestClassifier(random_state=0)"
      ]
     },
     "execution_count": 90,
     "metadata": {},
     "output_type": "execute_result"
    }
   ],
   "source": [
    "from sklearn.ensemble import RandomForestClassifier\n",
    "#diabetes = datasets.load_diabetes(as_frame=True)\n",
    "#df = diabetes['frame']\n",
    "X = df.iloc[:, :-1]\n",
    "y = df.iloc[:,-1]\n",
    "from sklearn.model_selection import train_test_split\n",
    "X_train, X_test, y_train, y_test = train_test_split(X, y, test_size=0.3, random_state=42)\n",
    "forest = RandomForestClassifier(random_state=0)\n",
    "forest.fit(X_train, y_train)"
   ]
  },
  {
   "cell_type": "code",
   "execution_count": 91,
   "id": "fcbba0d7",
   "metadata": {},
   "outputs": [
    {
     "name": "stdout",
     "output_type": "stream",
     "text": [
      "Elapsed time to compute the importances: 0.011 seconds\n"
     ]
    }
   ],
   "source": [
    "import time\n",
    "import numpy as np\n",
    "start_time = time.time()\n",
    "importances = forest.feature_importances_\n",
    "std = np.std([tree.feature_importances_ for tree in forest.estimators_], axis=0)\n",
    "elapsed_time = time.time() - start_time\n",
    "print(f\"Elapsed time to compute the importances: {elapsed_time:.3f} seconds\")\n"
   ]
  },
  {
   "cell_type": "code",
   "execution_count": 92,
   "id": "863ee2d8",
   "metadata": {},
   "outputs": [
    {
     "data": {
      "text/plain": [
       "array([0.36311338, 0.0591932 , 0.01952207, 0.2804989 , 0.27767244])"
      ]
     },
     "execution_count": 92,
     "metadata": {},
     "output_type": "execute_result"
    }
   ],
   "source": [
    "importances"
   ]
  },
  {
   "cell_type": "code",
   "execution_count": 93,
   "id": "182155ca",
   "metadata": {},
   "outputs": [
    {
     "data": {
      "image/png": "[encoded data removed]",
      "text/plain": [
       "<Figure size 432x288 with 1 Axes>"
      ]
     },
     "metadata": {
      "needs_background": "light"
     },
     "output_type": "display_data"
    }
   ],
   "source": [
    "forest_importances_impurity = pd.Series(importances, index=df.columns[0:5])\n",
    "\n",
    "fig, ax = plt.subplots()\n",
    "forest_importances_impurity.plot.bar(yerr=std, ax=ax)\n",
    "ax.set_title(\"Feature importances using MDI\")\n",
    "ax.set_ylabel(\"Mean decrease in impurity\")\n",
    "fig.tight_layout()"
   ]
  },
  {
   "cell_type": "code",
   "execution_count": 94,
   "id": "77b24c71",
   "metadata": {},
   "outputs": [
    {
     "data": {
      "text/plain": [
       "Id               0.363113\n",
       "SepalLengthCm    0.059193\n",
       "SepalWidthCm     0.019522\n",
       "PetalLengthCm    0.280499\n",
       "PetalWidthCm     0.277672\n",
       "dtype: float64"
      ]
     },
     "execution_count": 94,
     "metadata": {},
     "output_type": "execute_result"
    }
   ],
   "source": [
    "forest_importances_impurity"
   ]
  },
  {
   "cell_type": "code",
   "execution_count": 95,
   "id": "620b55ac",
   "metadata": {},
   "outputs": [
    {
     "name": "stdout",
     "output_type": "stream",
     "text": [
      "Elapsed time to compute the importances: 0.349 seconds\n"
     ]
    }
   ],
   "source": [
    "from sklearn.inspection import permutation_importance\n",
    "\n",
    "start_time = time.time()\n",
    "result = permutation_importance(\n",
    "    forest, X_test, y_test, n_repeats=10, random_state=42, n_jobs=2\n",
    ")\n",
    "elapsed_time = time.time() - start_time\n",
    "print(f\"Elapsed time to compute the importances: {elapsed_time:.3f} seconds\")\n",
    "\n",
    "forest_importances_permutation = pd.Series(result.importances_mean, index=df.columns[0:5])"
   ]
  },
  {
   "cell_type": "code",
   "execution_count": 96,
   "id": "aff6b900",
   "metadata": {},
   "outputs": [
    {
     "data": {
      "image/png": "[encoded data removed]",
      "text/plain": [
       "<Figure size 432x288 with 1 Axes>"
      ]
     },
     "metadata": {
      "needs_background": "light"
     },
     "output_type": "display_data"
    }
   ],
   "source": [
    "fig, ax = plt.subplots()\n",
    "forest_importances_permutation.plot.bar(yerr=result.importances_std, ax=ax)\n",
    "ax.set_title(\"Feature importances using permutation on full model\")\n",
    "ax.set_ylabel(\"Mean accuracy decrease\")\n",
    "fig.tight_layout()\n",
    "plt.show()"
   ]
  },
  {
   "cell_type": "code",
   "execution_count": 97,
   "id": "c5380d50",
   "metadata": {},
   "outputs": [
    {
     "data": {
      "text/html": [
       "<div>\n",
       "<style scoped>\n",
       "    .dataframe tbody tr th:only-of-type {\n",
       "        vertical-align: middle;\n",
       "    }\n",
       "\n",
       "    .dataframe tbody tr th {\n",
       "        vertical-align: top;\n",
       "    }\n",
       "\n",
       "    .dataframe thead th {\n",
       "        text-align: right;\n",
       "    }\n",
       "</style>\n",
       "<table border=\"1\" class=\"dataframe\">\n",
       "  <thead>\n",
       "    <tr style=\"text-align: right;\">\n",
       "      <th></th>\n",
       "      <th>Feature Importance</th>\n",
       "    </tr>\n",
       "  </thead>\n",
       "  <tbody>\n",
       "    <tr>\n",
       "      <th>Id</th>\n",
       "      <td>0.3</td>\n",
       "    </tr>\n",
       "    <tr>\n",
       "      <th>SepalLengthCm</th>\n",
       "      <td>0.0</td>\n",
       "    </tr>\n",
       "    <tr>\n",
       "      <th>SepalWidthCm</th>\n",
       "      <td>0.0</td>\n",
       "    </tr>\n",
       "    <tr>\n",
       "      <th>PetalLengthCm</th>\n",
       "      <td>0.0</td>\n",
       "    </tr>\n",
       "    <tr>\n",
       "      <th>PetalWidthCm</th>\n",
       "      <td>0.0</td>\n",
       "    </tr>\n",
       "  </tbody>\n",
       "</table>\n",
       "</div>"
      ],
      "text/plain": [
       "               Feature Importance\n",
       "Id                            0.3\n",
       "SepalLengthCm                 0.0\n",
       "SepalWidthCm                  0.0\n",
       "PetalLengthCm                 0.0\n",
       "PetalWidthCm                  0.0"
      ]
     },
     "execution_count": 97,
     "metadata": {},
     "output_type": "execute_result"
    }
   ],
   "source": [
    "forest_importances_permutation.to_frame().rename(columns = {0:'Feature Importance'}).sort_values('Feature Importance',ascending=False)"
   ]
  },
  {
   "cell_type": "code",
   "execution_count": 134,
   "id": "5a4a858d",
   "metadata": {},
   "outputs": [
    {
     "data": {
      "text/plain": [
       "array(['Iris-setosa', 'Iris-versicolor', 'Iris-virginica'], dtype=object)"
      ]
     },
     "execution_count": 134,
     "metadata": {},
     "output_type": "execute_result"
    }
   ],
   "source": [
    "df['Species'].unique()"
   ]
  },
  {
   "cell_type": "code",
   "execution_count": 175,
   "id": "83a200da",
   "metadata": {},
   "outputs": [
    {
     "data": {
      "text/plain": [
       "['Iris-setosa', 'Iris-versicolor', 'Iris-virginica']"
      ]
     },
     "execution_count": 175,
     "metadata": {},
     "output_type": "execute_result"
    }
   ],
   "source": [
    "list(np.unique(df[response].values))"
   ]
  },
  {
   "cell_type": "code",
   "execution_count": 173,
   "id": "6daf82c8",
   "metadata": {},
   "outputs": [
    {
     "data": {
      "text/plain": [
       "list"
      ]
     },
     "execution_count": 173,
     "metadata": {},
     "output_type": "execute_result"
    }
   ],
   "source": [
    "group_labels = [\"Response = 0\", \"Response = 1\"]\n",
    "type(group_labels)"
   ]
  },
  {
   "cell_type": "code",
   "execution_count": 178,
   "id": "eecbfd87",
   "metadata": {},
   "outputs": [],
   "source": [
    "def check_response(df,response):\n",
    "    #print('Resposne Variable:')\n",
    "    if df[response].dtypes[0]== 'O':\n",
    "        return('CAT_RES')\n",
    "    else:\n",
    "        return('CONT_RES')\n",
    "        \n",
    "def check_predictor(df,i,predictors):\n",
    "    if df[predictors].dtypes[i] == 'O':\n",
    "        return('CAT_PRED')\n",
    "    else:\n",
    "        return('CONT_PRED')\n",
    "\n",
    "\n",
    "def cont_response_cont_predictor(df,i,response,predictors):\n",
    "    x = df[df.columns[i]]\n",
    "    #print(x.values)\n",
    "    y = df[df.columns[-1]]\n",
    "\n",
    "    fig = px.scatter(x=x, y=y, trendline=\"ols\")\n",
    "    fig.update_layout(\n",
    "        title=\"Continuous Response by Continuous Predictor\",\n",
    "        xaxis_title=df.columns[i],\n",
    "        yaxis_title=\"Response\",\n",
    "    )\n",
    "    fig.show()\n",
    "    return\n",
    "    \n",
    "def cat_resp_cont_predictor(df,i,response,predictors,group_labels):\n",
    "    #print(df[response])\n",
    "    group_labels = list(np.unique(df[response].values))\n",
    "    # Group data together\n",
    "    hist_data = df[predictors].values\n",
    "\n",
    "    # Create distribution plot with custom bin_size\n",
    "    fig_1 = ff.create_distplot(hist_data, group_labels, bin_size=0.2)\n",
    "    fig_1.update_layout(\n",
    "        title=\"Continuous Predictor by Categorical Response\",\n",
    "        xaxis_title=\"Predictor\",\n",
    "        yaxis_title=\"Distribution\",\n",
    "    )\n",
    "    fig_1.show()\n",
    "    fig_2 = go.Figure()\n",
    "    for curr_hist, curr_group in zip(hist_data, group_labels):\n",
    "        fig_2.add_trace(\n",
    "            go.Violin(\n",
    "                x=np.repeat(curr_group, n),\n",
    "                y=curr_hist,\n",
    "                name=curr_group,\n",
    "                box_visible=True,\n",
    "                meanline_visible=True,\n",
    "            )\n",
    "        )\n",
    "    fig_2.update_layout(\n",
    "        title=\"Continuous Predictor by Categorical Response\",\n",
    "        xaxis_title=\"Response\",\n",
    "        yaxis_title=\"Predictor\",\n",
    "    )\n",
    "    fig_2.show()\n",
    "    \n",
    "    return\n"
   ]
  },
  {
   "cell_type": "code",
   "execution_count": null,
   "id": "60f5cd31",
   "metadata": {},
   "outputs": [],
   "source": []
  },
  {
   "cell_type": "code",
   "execution_count": 179,
   "id": "d7725161",
   "metadata": {},
   "outputs": [
    {
     "name": "stdout",
     "output_type": "stream",
     "text": [
      "CAT_RES\n"
     ]
    },
    {
     "ename": "PlotlyError",
     "evalue": "Oops! Your data lists or ndarrays should be the same length.",
     "output_type": "error",
     "traceback": [
      "\u001b[0;31m---------------------------------------------------------------------------\u001b[0m",
      "\u001b[0;31mPlotlyError\u001b[0m                               Traceback (most recent call last)",
      "\u001b[0;32m/var/folders/72/230_khjd7qldfsr4ldj7ck9w0000gn/T/ipykernel_20023/3808055371.py\u001b[0m in \u001b[0;36m<module>\u001b[0;34m\u001b[0m\n\u001b[1;32m     10\u001b[0m             \u001b[0mprint\u001b[0m\u001b[0;34m(\u001b[0m\u001b[0;34m'cat_res_cat_pred()'\u001b[0m\u001b[0;34m)\u001b[0m\u001b[0;34m\u001b[0m\u001b[0;34m\u001b[0m\u001b[0m\n\u001b[1;32m     11\u001b[0m         \u001b[0;32melse\u001b[0m\u001b[0;34m:\u001b[0m\u001b[0;34m\u001b[0m\u001b[0;34m\u001b[0m\u001b[0m\n\u001b[0;32m---> 12\u001b[0;31m             \u001b[0mcat_resp_cont_predictor\u001b[0m\u001b[0;34m(\u001b[0m\u001b[0mdf\u001b[0m\u001b[0;34m,\u001b[0m\u001b[0mi\u001b[0m\u001b[0;34m,\u001b[0m\u001b[0mresponse\u001b[0m\u001b[0;34m,\u001b[0m\u001b[0mpredictors\u001b[0m\u001b[0;34m,\u001b[0m\u001b[0mgroup_labels\u001b[0m\u001b[0;34m)\u001b[0m\u001b[0;34m\u001b[0m\u001b[0;34m\u001b[0m\u001b[0m\n\u001b[0m\u001b[1;32m     13\u001b[0m     \u001b[0;32melse\u001b[0m\u001b[0;34m:\u001b[0m\u001b[0;34m\u001b[0m\u001b[0;34m\u001b[0m\u001b[0m\n\u001b[1;32m     14\u001b[0m         \u001b[0;32mif\u001b[0m \u001b[0mresult_predictor\u001b[0m \u001b[0;34m==\u001b[0m \u001b[0;34m\"CAT_PRED\"\u001b[0m\u001b[0;34m:\u001b[0m\u001b[0;34m\u001b[0m\u001b[0;34m\u001b[0m\u001b[0m\n",
      "\u001b[0;32m/var/folders/72/230_khjd7qldfsr4ldj7ck9w0000gn/T/ipykernel_20023/3551744776.py\u001b[0m in \u001b[0;36mcat_resp_cont_predictor\u001b[0;34m(df, i, response, predictors, group_labels)\u001b[0m\n\u001b[1;32m     34\u001b[0m \u001b[0;34m\u001b[0m\u001b[0m\n\u001b[1;32m     35\u001b[0m     \u001b[0;31m# Create distribution plot with custom bin_size\u001b[0m\u001b[0;34m\u001b[0m\u001b[0;34m\u001b[0m\u001b[0m\n\u001b[0;32m---> 36\u001b[0;31m     \u001b[0mfig_1\u001b[0m \u001b[0;34m=\u001b[0m \u001b[0mff\u001b[0m\u001b[0;34m.\u001b[0m\u001b[0mcreate_distplot\u001b[0m\u001b[0;34m(\u001b[0m\u001b[0mhist_data\u001b[0m\u001b[0;34m,\u001b[0m \u001b[0mgroup_labels\u001b[0m\u001b[0;34m,\u001b[0m \u001b[0mbin_size\u001b[0m\u001b[0;34m=\u001b[0m\u001b[0;36m0.2\u001b[0m\u001b[0;34m)\u001b[0m\u001b[0;34m\u001b[0m\u001b[0;34m\u001b[0m\u001b[0m\n\u001b[0m\u001b[1;32m     37\u001b[0m     fig_1.update_layout(\n\u001b[1;32m     38\u001b[0m         \u001b[0mtitle\u001b[0m\u001b[0;34m=\u001b[0m\u001b[0;34m\"Continuous Predictor by Categorical Response\"\u001b[0m\u001b[0;34m,\u001b[0m\u001b[0;34m\u001b[0m\u001b[0;34m\u001b[0m\u001b[0m\n",
      "\u001b[0;32m~/opt/anaconda3/lib/python3.9/site-packages/plotly/figure_factory/_distplot.py\u001b[0m in \u001b[0;36mcreate_distplot\u001b[0;34m(hist_data, group_labels, bin_size, curve_type, colors, rug_text, histnorm, show_hist, show_curve, show_rug)\u001b[0m\n\u001b[1;32m    179\u001b[0m \u001b[0;34m\u001b[0m\u001b[0m\n\u001b[1;32m    180\u001b[0m     \u001b[0mvalidate_distplot\u001b[0m\u001b[0;34m(\u001b[0m\u001b[0mhist_data\u001b[0m\u001b[0;34m,\u001b[0m \u001b[0mcurve_type\u001b[0m\u001b[0;34m)\u001b[0m\u001b[0;34m\u001b[0m\u001b[0;34m\u001b[0m\u001b[0m\n\u001b[0;32m--> 181\u001b[0;31m     \u001b[0mutils\u001b[0m\u001b[0;34m.\u001b[0m\u001b[0mvalidate_equal_length\u001b[0m\u001b[0;34m(\u001b[0m\u001b[0mhist_data\u001b[0m\u001b[0;34m,\u001b[0m \u001b[0mgroup_labels\u001b[0m\u001b[0;34m)\u001b[0m\u001b[0;34m\u001b[0m\u001b[0;34m\u001b[0m\u001b[0m\n\u001b[0m\u001b[1;32m    182\u001b[0m \u001b[0;34m\u001b[0m\u001b[0m\n\u001b[1;32m    183\u001b[0m     \u001b[0;32mif\u001b[0m \u001b[0misinstance\u001b[0m\u001b[0;34m(\u001b[0m\u001b[0mbin_size\u001b[0m\u001b[0;34m,\u001b[0m \u001b[0;34m(\u001b[0m\u001b[0mfloat\u001b[0m\u001b[0;34m,\u001b[0m \u001b[0mint\u001b[0m\u001b[0;34m)\u001b[0m\u001b[0;34m)\u001b[0m\u001b[0;34m:\u001b[0m\u001b[0;34m\u001b[0m\u001b[0;34m\u001b[0m\u001b[0m\n",
      "\u001b[0;32m~/opt/anaconda3/lib/python3.9/site-packages/plotly/figure_factory/utils.py\u001b[0m in \u001b[0;36mvalidate_equal_length\u001b[0;34m(*args)\u001b[0m\n\u001b[1;32m     97\u001b[0m     \u001b[0mlength\u001b[0m \u001b[0;34m=\u001b[0m \u001b[0mlen\u001b[0m\u001b[0;34m(\u001b[0m\u001b[0margs\u001b[0m\u001b[0;34m[\u001b[0m\u001b[0;36m0\u001b[0m\u001b[0;34m]\u001b[0m\u001b[0;34m)\u001b[0m\u001b[0;34m\u001b[0m\u001b[0;34m\u001b[0m\u001b[0m\n\u001b[1;32m     98\u001b[0m     \u001b[0;32mif\u001b[0m \u001b[0many\u001b[0m\u001b[0;34m(\u001b[0m\u001b[0mlen\u001b[0m\u001b[0;34m(\u001b[0m\u001b[0mlst\u001b[0m\u001b[0;34m)\u001b[0m \u001b[0;34m!=\u001b[0m \u001b[0mlength\u001b[0m \u001b[0;32mfor\u001b[0m \u001b[0mlst\u001b[0m \u001b[0;32min\u001b[0m \u001b[0margs\u001b[0m\u001b[0;34m)\u001b[0m\u001b[0;34m:\u001b[0m\u001b[0;34m\u001b[0m\u001b[0;34m\u001b[0m\u001b[0m\n\u001b[0;32m---> 99\u001b[0;31m         raise exceptions.PlotlyError(\n\u001b[0m\u001b[1;32m    100\u001b[0m             \u001b[0;34m\"Oops! Your data lists or ndarrays \"\u001b[0m \u001b[0;34m\"should be the same length.\"\u001b[0m\u001b[0;34m\u001b[0m\u001b[0;34m\u001b[0m\u001b[0m\n\u001b[1;32m    101\u001b[0m         )\n",
      "\u001b[0;31mPlotlyError\u001b[0m: Oops! Your data lists or ndarrays should be the same length."
     ]
    }
   ],
   "source": [
    "result_response = check_response(df,response)\n",
    "\n",
    "    \n",
    "print(result_response)\n",
    "for i in range(0,len(df.columns)-1):\n",
    "    #result_response = check_response(df,i,response)\n",
    "    result_predictor = check_predictor(df,i,predictors)\n",
    "    if result_response == \"CAT_RES\":\n",
    "        if result_predictor == \"CAT_PRED\":\n",
    "            print('cat_res_cat_pred()')\n",
    "        else:\n",
    "            cat_resp_cont_predictor(df,i,response,predictors,group_labels)\n",
    "    else:\n",
    "        if result_predictor == \"CAT_PRED\":\n",
    "            print('cont_res_cat_pred()')\n",
    "        else:\n",
    "            cont_response_cont_predictor(df,i,response,predictors)\n",
    "        "
   ]
  },
  {
   "cell_type": "code",
   "execution_count": null,
   "id": "ecff7c46",
   "metadata": {},
   "outputs": [],
   "source": []
  },
  {
   "cell_type": "code",
   "execution_count": 100,
   "id": "dfb24943",
   "metadata": {},
   "outputs": [
    {
     "name": "stdout",
     "output_type": "stream",
     "text": [
      "0\n"
     ]
    },
    {
     "ename": "AttributeError",
     "evalue": "'DataFrame' object has no attribute 'target'",
     "output_type": "error",
     "traceback": [
      "\u001b[0;31m---------------------------------------------------------------------------\u001b[0m",
      "\u001b[0;31mAttributeError\u001b[0m                            Traceback (most recent call last)",
      "\u001b[0;32m/var/folders/72/230_khjd7qldfsr4ldj7ck9w0000gn/T/ipykernel_20023/4229945865.py\u001b[0m in \u001b[0;36m<module>\u001b[0;34m\u001b[0m\n\u001b[1;32m      5\u001b[0m     \u001b[0mX\u001b[0m \u001b[0;34m=\u001b[0m \u001b[0mdf\u001b[0m\u001b[0;34m[\u001b[0m\u001b[0;34m[\u001b[0m\u001b[0mdf\u001b[0m\u001b[0;34m.\u001b[0m\u001b[0mcolumns\u001b[0m\u001b[0;34m[\u001b[0m\u001b[0mi\u001b[0m\u001b[0;34m]\u001b[0m\u001b[0;34m,\u001b[0m\u001b[0mdf\u001b[0m\u001b[0;34m.\u001b[0m\u001b[0mcolumns\u001b[0m\u001b[0;34m[\u001b[0m\u001b[0;34m-\u001b[0m\u001b[0;36m1\u001b[0m\u001b[0;34m]\u001b[0m\u001b[0;34m]\u001b[0m\u001b[0;34m]\u001b[0m\u001b[0;34m\u001b[0m\u001b[0;34m\u001b[0m\u001b[0m\n\u001b[1;32m      6\u001b[0m     \u001b[0mprint\u001b[0m\u001b[0;34m(\u001b[0m\u001b[0mi\u001b[0m\u001b[0;34m)\u001b[0m\u001b[0;34m\u001b[0m\u001b[0;34m\u001b[0m\u001b[0m\n\u001b[0;32m----> 7\u001b[0;31m     \u001b[0mprint\u001b[0m\u001b[0;34m(\u001b[0m\u001b[0mX\u001b[0m\u001b[0;34m.\u001b[0m\u001b[0mtarget\u001b[0m\u001b[0;34m.\u001b[0m\u001b[0mmean\u001b[0m\u001b[0;34m(\u001b[0m\u001b[0;34m)\u001b[0m\u001b[0;34m)\u001b[0m\u001b[0;34m\u001b[0m\u001b[0;34m\u001b[0m\u001b[0m\n\u001b[0m\u001b[1;32m      8\u001b[0m     \u001b[0mprint\u001b[0m\u001b[0;34m(\u001b[0m\u001b[0;34m'end'\u001b[0m\u001b[0;34m)\u001b[0m\u001b[0;34m\u001b[0m\u001b[0;34m\u001b[0m\u001b[0m\n\u001b[1;32m      9\u001b[0m \u001b[0;34m\u001b[0m\u001b[0m\n",
      "\u001b[0;32m~/opt/anaconda3/lib/python3.9/site-packages/pandas/core/generic.py\u001b[0m in \u001b[0;36m__getattr__\u001b[0;34m(self, name)\u001b[0m\n\u001b[1;32m   5485\u001b[0m         ):\n\u001b[1;32m   5486\u001b[0m             \u001b[0;32mreturn\u001b[0m \u001b[0mself\u001b[0m\u001b[0;34m[\u001b[0m\u001b[0mname\u001b[0m\u001b[0;34m]\u001b[0m\u001b[0;34m\u001b[0m\u001b[0;34m\u001b[0m\u001b[0m\n\u001b[0;32m-> 5487\u001b[0;31m         \u001b[0;32mreturn\u001b[0m \u001b[0mobject\u001b[0m\u001b[0;34m.\u001b[0m\u001b[0m__getattribute__\u001b[0m\u001b[0;34m(\u001b[0m\u001b[0mself\u001b[0m\u001b[0;34m,\u001b[0m \u001b[0mname\u001b[0m\u001b[0;34m)\u001b[0m\u001b[0;34m\u001b[0m\u001b[0;34m\u001b[0m\u001b[0m\n\u001b[0m\u001b[1;32m   5488\u001b[0m \u001b[0;34m\u001b[0m\u001b[0m\n\u001b[1;32m   5489\u001b[0m     \u001b[0;32mdef\u001b[0m \u001b[0m__setattr__\u001b[0m\u001b[0;34m(\u001b[0m\u001b[0mself\u001b[0m\u001b[0;34m,\u001b[0m \u001b[0mname\u001b[0m\u001b[0;34m:\u001b[0m \u001b[0mstr\u001b[0m\u001b[0;34m,\u001b[0m \u001b[0mvalue\u001b[0m\u001b[0;34m)\u001b[0m \u001b[0;34m->\u001b[0m \u001b[0;32mNone\u001b[0m\u001b[0;34m:\u001b[0m\u001b[0;34m\u001b[0m\u001b[0;34m\u001b[0m\u001b[0m\n",
      "\u001b[0;31mAttributeError\u001b[0m: 'DataFrame' object has no attribute 'target'"
     ]
    }
   ],
   "source": [
    "pred =[]\n",
    "response_avg =[]\n",
    "pred_value_count =[]\n",
    "for i in range(0,len(df.columns)):\n",
    "    X = df[[df.columns[i],df.columns[-1]]]\n",
    "    print(i)\n",
    "    print(X.target.mean())\n",
    "    print('end')\n",
    "    "
   ]
  },
  {
   "cell_type": "code",
   "execution_count": 300,
   "id": "d96099f1",
   "metadata": {
    "scrolled": true
   },
   "outputs": [
    {
     "name": "stdout",
     "output_type": "stream",
     "text": [
      "[24. 23. 47. 53. 55. 85. 69. 47. 33.  6.]\n",
      "[-0.04464164 -0.03510946 -0.02557729 -0.01604511 -0.00651293  0.00301924\n",
      "  0.01255142  0.02208359  0.03161577  0.04114794  0.05068012]\n"
     ]
    },
    {
     "data": {
      "image/png": "[encoded data removed]",
      "text/plain": [
       "<Figure size 432x288 with 1 Axes>"
      ]
     },
     "metadata": {
      "needs_background": "light"
     },
     "output_type": "display_data"
    }
   ],
   "source": [
    "#x = plt.hist(df['age'])\n",
    "freq =[]\n",
    "bins=[]\n",
    "for i in range(0,len(df.columns)):\n",
    "    x = plt.hist(df[df.columns[i]])\n",
    "    freq.append(x[0])\n",
    "    bins.append(x[1])\n",
    "    \n",
    "    \n",
    "print(freq[0])\n",
    "print(bins[1])"
   ]
  },
  {
   "cell_type": "code",
   "execution_count": 156,
   "id": "2f586582",
   "metadata": {},
   "outputs": [
    {
     "data": {
      "text/plain": [
       "array([-0.10722563, -0.0854304 , -0.06363517, -0.04183994, -0.02004471,\n",
       "        0.00175052,  0.02354575,  0.04534098,  0.06713621,  0.08893144,\n",
       "        0.11072668])"
      ]
     },
     "execution_count": 156,
     "metadata": {},
     "output_type": "execute_result"
    }
   ],
   "source": [
    "frequency = x[0]\n",
    "bins = x[1]"
   ]
  },
  {
   "cell_type": "code",
   "execution_count": 197,
   "id": "875079f6",
   "metadata": {},
   "outputs": [
    {
     "data": {
      "text/plain": [
       "(array([24., 23., 47., 53., 55., 85., 69., 47., 33.,  6.]),\n",
       " array([-0.10722563, -0.0854304 , -0.06363517, -0.04183994, -0.02004471,\n",
       "         0.00175052,  0.02354575,  0.04534098,  0.06713621,  0.08893144,\n",
       "         0.11072668]),\n",
       " <BarContainer object of 10 artists>)"
      ]
     },
     "execution_count": 197,
     "metadata": {},
     "output_type": "execute_result"
    },
    {
     "data": {
      "image/png": "[encoded data removed]",
      "text/plain": [
       "<Figure size 432x288 with 1 Axes>"
      ]
     },
     "metadata": {
      "needs_background": "light"
     },
     "output_type": "display_data"
    }
   ],
   "source": [
    "plt.hist(df['age'])"
   ]
  }
 ],
 "metadata": {
  "kernelspec": {
   "display_name": "Python 3 (ipykernel)",
   "language": "python",
   "name": "python3"
  },
  "language_info": {
   "codemirror_mode": {
    "name": "ipython",
    "version": 3
   },
   "file_extension": ".py",
   "mimetype": "text/x-python",
   "name": "python",
   "nbconvert_exporter": "python",
   "pygments_lexer": "ipython3",
   "version": "3.9.7"
  }
 },
 "nbformat": 4,
 "nbformat_minor": 5
}
